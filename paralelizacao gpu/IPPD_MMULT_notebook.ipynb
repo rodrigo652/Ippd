{
  "nbformat": 4,
  "nbformat_minor": 0,
  "metadata": {
    "colab": {
      "provenance": [],
      "gpuType": "T4"
    },
    "kernelspec": {
      "name": "python3",
      "display_name": "Python 3"
    },
    "language_info": {
      "name": "python"
    },
    "accelerator": "GPU"
  },
  "cells": [
    {
      "cell_type": "markdown",
      "source": [
        "# Configuração do Ambiente\n",
        "\n",
        "Aqui são configurados os compiladores e backend para que o offloading para a GPU possa ser realizado.\n",
        "\n",
        "No final, um programa teste simples mostra se o dispositivo acelerador (GPU) foi encontrado."
      ],
      "metadata": {
        "id": "D8LtJtCPeVy2"
      }
    },
    {
      "cell_type": "code",
      "execution_count": 34,
      "metadata": {
        "id": "8n_Pe1HYeJRU",
        "colab": {
          "base_uri": "https://localhost:8080/"
        },
        "outputId": "ebb081e7-4cb7-4d29-9e43-7a94b1cf35ab"
      },
      "outputs": [
        {
          "output_type": "stream",
          "name": "stdout",
          "text": [
            "'/usr/local/cuda' -> '/usr/local/cuda-11/'\n",
            "--2023-09-27 19:02:09--  https://openmp-course.s3.amazonaws.com/llvm.tar.gz\n",
            "Resolving openmp-course.s3.amazonaws.com (openmp-course.s3.amazonaws.com)... 52.216.35.121, 16.182.106.97, 52.217.86.196, ...\n",
            "Connecting to openmp-course.s3.amazonaws.com (openmp-course.s3.amazonaws.com)|52.216.35.121|:443... connected.\n",
            "HTTP request sent, awaiting response... 200 OK\n",
            "Length: 810538565 (773M) [application/x-gzip]\n",
            "Saving to: ‘llvm.tar.gz.1’\n",
            "\n",
            "llvm.tar.gz.1       100%[===================>] 772.99M  55.1MB/s    in 13s     \n",
            "\n",
            "2023-09-27 19:02:22 (59.1 MB/s) - ‘llvm.tar.gz.1’ saved [810538565/810538565]\n",
            "\n"
          ]
        },
        {
          "output_type": "execute_result",
          "data": {
            "text/plain": []
          },
          "metadata": {},
          "execution_count": 34
        }
      ],
      "source": [
        "%%shell\n",
        "ln -sfnv /usr/local/cuda-11/ /usr/local/cuda\n",
        "wget https://openmp-course.s3.amazonaws.com/llvm.tar.gz\n",
        "tar -xzvf llvm.tar.gz >/dev/null 2>&1"
      ]
    },
    {
      "cell_type": "code",
      "source": [
        "import os\n",
        "\n",
        "os.environ['LLVM_PATH'] = '/content/llvm'\n",
        "os.environ['PATH'] = os.environ['LLVM_PATH'] + '/bin:' + os.environ['PATH']\n",
        "os.environ['LD_LIBRARY_PATH'] = os.environ['LLVM_PATH'] + '/lib:' + os.environ['LD_LIBRARY_PATH']\n",
        "os.environ['TSAN_OPTIONS'] = 'ignore_noninstrumented_modules=1'"
      ],
      "metadata": {
        "id": "rSy9e2XAe2sl"
      },
      "execution_count": 35,
      "outputs": []
    },
    {
      "cell_type": "code",
      "source": [
        "%%writefile test.c\n",
        "\n",
        "#include <omp.h>\n",
        "#include <stdio.h>\n",
        "\n",
        "int main() {\n",
        "  int num_devices = omp_get_num_devices();\n",
        "  printf(\"Temos %d dispositivo(s) alocado(s)\\n\", num_devices);\n",
        "}"
      ],
      "metadata": {
        "id": "jTwal_cte3uf",
        "colab": {
          "base_uri": "https://localhost:8080/"
        },
        "outputId": "b2d255cc-80ec-46a2-dcec-59c1a18166b1"
      },
      "execution_count": 36,
      "outputs": [
        {
          "output_type": "stream",
          "name": "stdout",
          "text": [
            "Overwriting test.c\n"
          ]
        }
      ]
    },
    {
      "cell_type": "markdown",
      "source": [
        "Essa é a linha de comando principal do compilador. Você deve usar essas opções sempre que for fazer offloading para GPU.\n",
        "\n"
      ],
      "metadata": {
        "id": "x5UCD0wIfTRs"
      }
    },
    {
      "cell_type": "code",
      "source": [
        "%%shell\n",
        "\n",
        "clang -fopenmp -fopenmp-targets=nvptx64-nvidia-cuda -Xopenmp-target -march=sm_75 test.c -o teste\n",
        "\n",
        "./teste"
      ],
      "metadata": {
        "id": "vTaywkf_fEmh",
        "colab": {
          "base_uri": "https://localhost:8080/"
        },
        "outputId": "a3ba6024-e364-475f-886f-d5ad1340ac5f"
      },
      "execution_count": 37,
      "outputs": [
        {
          "output_type": "stream",
          "name": "stdout",
          "text": [
            "clang-13: \u001b[0;1;35mwarning: \u001b[0m\u001b[1mUnknown CUDA version. cuda.h: CUDA_VERSION=11080. Assuming the latest supported version 10.1 [-Wunknown-cuda-version]\u001b[0m\n",
            "Temos 1 dispositivo(s) alocado(s)\n"
          ]
        },
        {
          "output_type": "execute_result",
          "data": {
            "text/plain": []
          },
          "metadata": {},
          "execution_count": 37
        }
      ]
    },
    {
      "cell_type": "markdown",
      "source": [
        "# Experimentos com offloading para GPU"
      ],
      "metadata": {
        "id": "LvwKAHxyfoB5"
      }
    },
    {
      "cell_type": "markdown",
      "source": [
        "Programa teste para execução na GPU."
      ],
      "metadata": {
        "id": "phUG9VsidDFv"
      }
    },
    {
      "cell_type": "code",
      "source": [
        "%%writefile mmult.c\n",
        "#include <stdlib.h>\n",
        "#include <stdio.h>\n",
        "#include <math.h>\n",
        "#include <sys/time.h>\n",
        "\n",
        "// parâmetro de linha de comando: <tamanho>\n",
        "int main(int argc, char *argv[])\n",
        "{\n",
        "\n",
        "\tstruct timeval start, end; //gettimeofday\n",
        "\tdouble t, sum;\n",
        "\tint i, j, k, tam;\n",
        "\n",
        "  if (argc < 2) {\n",
        "    printf(\"É necessário especificar o tamanho da matriz\\n\");\n",
        "    exit(-1);\n",
        "  }\n",
        "\n",
        "  srand(0);\n",
        "\n",
        "\ttam = atoi(argv[1]);\n",
        "\n",
        "\t// Aloca espaço dinâmico para as matrizes\n",
        "\n",
        "\n",
        "  double *ma = (double *) malloc(tam * tam * sizeof(double));\n",
        "  double *mb = (double *) malloc(tam * tam * sizeof(double));\n",
        "  double *mfim = (double *) malloc(tam * tam * sizeof(double));\n",
        "\n",
        "\n",
        "\tif (ma == NULL || mb == NULL || mfim == NULL)\n",
        "    {\n",
        "        fprintf(stderr, \"Out of memory\");\n",
        "        exit(-1);\n",
        "    }\n",
        "\n",
        "\t// Preenche as matrizes com valores randômicos\n",
        "\tfor (i=0;i<tam;i++)\n",
        "\t\tfor (j=0;j<tam;j++){\n",
        "\t\t\tma[i*tam+j] = (fmod (rand(), 50.111));\n",
        "\t\t\tmb[i*tam+j] = (fmod (rand(), 50.111));\n",
        "\t\t}\n",
        "\n",
        "\n",
        "\t// a multiplicação\n",
        "\tgettimeofday(&start, NULL);\n",
        "\n",
        "#pragma omp target teams distribute parallel for private(j, k) map(to:ma[0:tam*tam], mb[0:tam*tam]) map(tofrom:mfim[0:tam*tam])\n",
        "\tfor (i=0; i<tam; i++)\n",
        "\t\tfor (j=0; j<tam; j++)\n",
        "\t\t\tfor (k=0; k<tam; k++)\n",
        "        mfim[i*tam+j] += ma[i*tam+k] * mb[k*tam+j];\n",
        "\n",
        "\tgettimeofday(&end, NULL);\n",
        "\n",
        "\n",
        "\tt = (double) ((end.tv_sec * 1000000 + end.tv_usec) - (start.tv_sec * 1000000 + start.tv_usec)) / 1000000.0;\n",
        "\n",
        "\tprintf(\"Tempo gasto: %f\\n\", t);\n",
        "\n",
        "  /* imprime matriz resultante no stderr */\n",
        "\tfor (i=0; i<tam; i++)\n",
        "\t\tfor (j=0; j<tam; j++)\n",
        "      fprintf(stderr, \"%g \", mfim[i*tam+j]);\n",
        "\n",
        "\n",
        "\tfree(ma);\n",
        "  free(mb);\n",
        "  free(mfim);\n",
        "\n",
        "\treturn 0;\n",
        "}\n"
      ],
      "metadata": {
        "colab": {
          "base_uri": "https://localhost:8080/"
        },
        "id": "BcrEcJsdfr3f",
        "outputId": "6af450e1-7719-467c-e2a1-b2ba13391ec8"
      },
      "execution_count": 65,
      "outputs": [
        {
          "output_type": "stream",
          "name": "stdout",
          "text": [
            "Overwriting mmult.c\n"
          ]
        }
      ]
    },
    {
      "cell_type": "code",
      "source": [
        "!clang -fopenmp -fopenmp-targets=nvptx64-nvidia-cuda -Xopenmp-target -march=sm_75 -lm mmult.c -o mmult.x"
      ],
      "metadata": {
        "colab": {
          "base_uri": "https://localhost:8080/"
        },
        "id": "iEztU4BDc4ei",
        "outputId": "db7f6189-a80c-464c-916a-f4883bdb6e27"
      },
      "execution_count": 66,
      "outputs": [
        {
          "output_type": "stream",
          "name": "stdout",
          "text": [
            "clang-13: \u001b[0;1;35mwarning: \u001b[0m\u001b[1mUnknown CUDA version. cuda.h: CUDA_VERSION=11080. Assuming the latest supported version 10.1 [-Wunknown-cuda-version]\u001b[0m\n"
          ]
        }
      ]
    },
    {
      "cell_type": "code",
      "source": [
        "!./mmult.x 1000 2>saida2"
      ],
      "metadata": {
        "colab": {
          "base_uri": "https://localhost:8080/"
        },
        "id": "3zjlVCIRdPyW",
        "outputId": "c5c09792-3ade-4a29-fd29-e0ef58b98824"
      },
      "execution_count": 67,
      "outputs": [
        {
          "output_type": "stream",
          "name": "stdout",
          "text": [
            "Tempo gasto: 2.602798\n"
          ]
        }
      ]
    }
  ]
}