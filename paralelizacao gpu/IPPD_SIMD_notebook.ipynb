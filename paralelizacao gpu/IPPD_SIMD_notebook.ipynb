{
  "nbformat": 4,
  "nbformat_minor": 0,
  "metadata": {
    "colab": {
      "provenance": [],
      "gpuType": "T4",
      "collapsed_sections": [
        "D8LtJtCPeVy2"
      ]
    },
    "kernelspec": {
      "name": "python3",
      "display_name": "Python 3"
    },
    "language_info": {
      "name": "python"
    },
    "accelerator": "GPU"
  },
  "cells": [
    {
      "cell_type": "markdown",
      "source": [
        "# Configuração do Ambiente\n",
        "\n",
        "Aqui são configurados os compiladores e backend para que o offloading para a GPU possa ser realizado.\n",
        "\n",
        "No final, um programa teste simples mostra se o dispositivo acelerador (GPU) foi encontrado."
      ],
      "metadata": {
        "id": "D8LtJtCPeVy2"
      }
    },
    {
      "cell_type": "code",
      "execution_count": null,
      "metadata": {
        "id": "8n_Pe1HYeJRU",
        "colab": {
          "base_uri": "https://localhost:8080/"
        },
        "outputId": "04bb52cc-5f99-44dd-f192-894aa9220ec0"
      },
      "outputs": [
        {
          "output_type": "stream",
          "name": "stdout",
          "text": [
            "'/usr/local/cuda' -> '/usr/local/cuda-11/'\n",
            "--2023-09-27 02:27:30--  https://openmp-course.s3.amazonaws.com/llvm.tar.gz\n",
            "Resolving openmp-course.s3.amazonaws.com (openmp-course.s3.amazonaws.com)... 52.217.48.92, 52.217.169.185, 16.182.74.73, ...\n",
            "Connecting to openmp-course.s3.amazonaws.com (openmp-course.s3.amazonaws.com)|52.217.48.92|:443... connected.\n",
            "HTTP request sent, awaiting response... 200 OK\n",
            "Length: 810538565 (773M) [application/x-gzip]\n",
            "Saving to: ‘llvm.tar.gz’\n",
            "\n",
            "llvm.tar.gz         100%[===================>] 772.99M  42.8MB/s    in 17s     \n",
            "\n",
            "2023-09-27 02:27:47 (45.8 MB/s) - ‘llvm.tar.gz’ saved [810538565/810538565]\n",
            "\n"
          ]
        },
        {
          "output_type": "execute_result",
          "data": {
            "text/plain": []
          },
          "metadata": {},
          "execution_count": 1
        }
      ],
      "source": [
        "%%shell\n",
        "ln -sfnv /usr/local/cuda-11/ /usr/local/cuda\n",
        "wget https://openmp-course.s3.amazonaws.com/llvm.tar.gz\n",
        "tar -xzvf llvm.tar.gz >/dev/null 2>&1"
      ]
    },
    {
      "cell_type": "code",
      "source": [
        "import os\n",
        "\n",
        "os.environ['LLVM_PATH'] = '/content/llvm'\n",
        "os.environ['PATH'] = os.environ['LLVM_PATH'] + '/bin:' + os.environ['PATH']\n",
        "os.environ['LD_LIBRARY_PATH'] = os.environ['LLVM_PATH'] + '/lib:' + os.environ['LD_LIBRARY_PATH']\n",
        "os.environ['TSAN_OPTIONS'] = 'ignore_noninstrumented_modules=1'"
      ],
      "metadata": {
        "id": "rSy9e2XAe2sl"
      },
      "execution_count": null,
      "outputs": []
    },
    {
      "cell_type": "code",
      "source": [
        "%%writefile test.c\n",
        "\n",
        "#include <omp.h>\n",
        "#include <stdio.h>\n",
        "\n",
        "int main() {\n",
        "  int num_devices = omp_get_num_devices();\n",
        "  printf(\"Temos %d dispositivo(s) alocado(s)\\n\", num_devices);\n",
        "}"
      ],
      "metadata": {
        "id": "jTwal_cte3uf",
        "colab": {
          "base_uri": "https://localhost:8080/"
        },
        "outputId": "e1644bee-5505-4f69-ce1e-b2de2670c93d"
      },
      "execution_count": null,
      "outputs": [
        {
          "output_type": "stream",
          "name": "stdout",
          "text": [
            "Writing test.c\n"
          ]
        }
      ]
    },
    {
      "cell_type": "markdown",
      "source": [
        "Essa é a linha de comando principal do compilador. Você deve usar essas opções sempre que for fazer offloading para GPU.\n",
        "\n"
      ],
      "metadata": {
        "id": "x5UCD0wIfTRs"
      }
    },
    {
      "cell_type": "code",
      "source": [
        "%%shell\n",
        "\n",
        "clang -fopenmp -fopenmp-targets=nvptx64-nvidia-cuda -Xopenmp-target -march=sm_75 test.c -o teste\n",
        "\n",
        "./teste"
      ],
      "metadata": {
        "id": "vTaywkf_fEmh",
        "colab": {
          "base_uri": "https://localhost:8080/"
        },
        "outputId": "8273f141-e7b6-4f1c-dd53-8b35b0bb6df5"
      },
      "execution_count": null,
      "outputs": [
        {
          "output_type": "stream",
          "name": "stdout",
          "text": [
            "clang-13: \u001b[0;1;35mwarning: \u001b[0m\u001b[1mUnknown CUDA version. cuda.h: CUDA_VERSION=11080. Assuming the latest supported version 10.1 [-Wunknown-cuda-version]\u001b[0m\n",
            "Temos 1 dispositivo(s) alocado(s)\n"
          ]
        },
        {
          "output_type": "execute_result",
          "data": {
            "text/plain": []
          },
          "metadata": {},
          "execution_count": 4
        }
      ]
    },
    {
      "cell_type": "markdown",
      "source": [
        "# Experimentos com offloading para GPU"
      ],
      "metadata": {
        "id": "LvwKAHxyfoB5"
      }
    },
    {
      "cell_type": "markdown",
      "source": [
        "Programa teste para execução na GPU."
      ],
      "metadata": {
        "id": "phUG9VsidDFv"
      }
    },
    {
      "cell_type": "code",
      "source": [
        "%%writefile vadd.c\n",
        "#include <stdio.h>\n",
        "#include <stdlib.h>\n",
        "#include <omp.h>\n",
        "#define N 500000000\n",
        "#define TOL  0.0000001\n",
        "//\n",
        "//  This is a simple program to add two vectors\n",
        "//  and verify the results.\n",
        "//\n",
        "//  History: Written by Tim Mattson, November 2017\n",
        "//\n",
        "int main()\n",
        "{\n",
        "\n",
        "    float *a, *b, *c, *res;\n",
        "    int err=0;\n",
        "\n",
        "    a = (float *)malloc(sizeof(float)*N);\n",
        "    if (a==NULL) {printf(\"could not allocate memory\\n\"); exit(-1);}\n",
        "    b = (float *)malloc(sizeof(float)*N);\n",
        "    if (b==NULL) {printf(\"could not allocate memory\\n\"); exit(-1);}\n",
        "    c = (float *)malloc(sizeof(float)*N);\n",
        "    if (c==NULL) {printf(\"could not allocate memory\\n\"); exit(-1);}\n",
        "    res = (float *)malloc(sizeof(float)*N);\n",
        "    if (res==NULL) {printf(\"could not allocate memory\\n\"); exit(-1);}\n",
        "\n",
        "    double init_time, compute_time, test_time;\n",
        "    init_time    = -omp_get_wtime();\n",
        "\n",
        "   // fill the arrays\n",
        "   for (long i=0; i<N; i++){\n",
        "      a[i] = (float)i;\n",
        "      b[i] = 2.0*(float)i;\n",
        "      c[i] = 0.0;\n",
        "      res[i] = (float)i + 2.0*(float)i;\n",
        "   }\n",
        "\n",
        "   init_time    +=  omp_get_wtime();\n",
        "   compute_time  = -omp_get_wtime();\n",
        "\n",
        "   // add two vectors\n",
        "   //#pragma omp target teams distribute parallel for simd map(to:a[0:N], b[0:N]) map(tofrom:c[0:N])\n",
        "   for (long i=0; i<N; i++){\n",
        "      c[i] = a[i] + b[i];\n",
        "   }\n",
        "\n",
        "\n",
        "   compute_time +=  omp_get_wtime();\n",
        "   test_time     = -omp_get_wtime();\n",
        "\n",
        "   // test results\n",
        "   for (long i=0;i<N;i++){\n",
        "      float val = c[i] - res[i];\n",
        "      val = val*val;\n",
        "      if (val>TOL) err++;\n",
        "   }\n",
        "\n",
        "   test_time    +=  omp_get_wtime();\n",
        "\n",
        "   printf(\" vectors added with %d errors\\n\",err);\n",
        "   printf(\"Init time:    %.3fs\\n\", init_time);\n",
        "   printf(\"Compute time: %.3fs\\n\", compute_time);\n",
        "   printf(\"Test time:    %.3fs\\n\", test_time);\n",
        "   printf(\"Total time:   %.3fs\\n\", init_time + compute_time + test_time);\n",
        "\n",
        "   free(a);\n",
        "   free(b);\n",
        "   free(c);\n",
        "   free(res);\n",
        "   return 0;\n",
        "}"
      ],
      "metadata": {
        "colab": {
          "base_uri": "https://localhost:8080/"
        },
        "id": "BcrEcJsdfr3f",
        "outputId": "a00c517e-623c-4e02-cb02-44838b6323a1"
      },
      "execution_count": null,
      "outputs": [
        {
          "output_type": "stream",
          "name": "stdout",
          "text": [
            "Writing vadd.c\n"
          ]
        }
      ]
    },
    {
      "cell_type": "code",
      "source": [
        "!clang -fopenmp -fopenmp-targets=nvptx64-nvidia-cuda -Xopenmp-target -march=sm_75 vadd.c -o vadd.x"
      ],
      "metadata": {
        "colab": {
          "base_uri": "https://localhost:8080/"
        },
        "id": "iEztU4BDc4ei",
        "outputId": "428f501b-6503-43e7-88db-9db932e441d0"
      },
      "execution_count": null,
      "outputs": [
        {
          "output_type": "stream",
          "name": "stdout",
          "text": [
            "clang-13: \u001b[0;1;35mwarning: \u001b[0m\u001b[1mUnknown CUDA version. cuda.h: CUDA_VERSION=11080. Assuming the latest supported version 10.1 [-Wunknown-cuda-version]\u001b[0m\n"
          ]
        }
      ]
    },
    {
      "cell_type": "code",
      "source": [
        "!./vadd.x"
      ],
      "metadata": {
        "colab": {
          "base_uri": "https://localhost:8080/"
        },
        "id": "3zjlVCIRdPyW",
        "outputId": "c221ebe7-c404-4b11-c571-89a32bcb3750"
      },
      "execution_count": null,
      "outputs": [
        {
          "output_type": "stream",
          "name": "stdout",
          "text": [
            " vectors added with 0 errors\n",
            "Init time:    7.681s\n",
            "Compute time: 1.412s\n",
            "Test time:    1.698s\n",
            "Total time:   10.791s\n"
          ]
        }
      ]
    }
  ]
}